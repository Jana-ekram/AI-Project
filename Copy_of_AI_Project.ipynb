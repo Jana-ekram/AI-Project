{
  "nbformat": 4,
  "nbformat_minor": 0,
  "metadata": {
    "colab": {
      "provenance": [],
      "include_colab_link": true
    },
    "kernelspec": {
      "name": "python3",
      "display_name": "Python 3"
    },
    "language_info": {
      "name": "python"
    }
  },
  "cells": [
    {
      "cell_type": "markdown",
      "metadata": {
        "id": "view-in-github",
        "colab_type": "text"
      },
      "source": [
        "<a href=\"https://colab.research.google.com/github/Jana-ekram/AI-Project/blob/main/Copy_of_AI_Project.ipynb\" target=\"_parent\"><img src=\"https://colab.research.google.com/assets/colab-badge.svg\" alt=\"Open In Colab\"/></a>"
      ]
    },
    {
      "cell_type": "markdown",
      "source": [],
      "metadata": {
        "id": "RBMiG-GB8IFG"
      }
    },
    {
      "cell_type": "markdown",
      "source": [
        "\n",
        "## **Importing the data set from Kaggle**"
      ],
      "metadata": {
        "id": "0TgZKjNh8OTX"
      }
    },
    {
      "cell_type": "code",
      "execution_count": 2,
      "metadata": {
        "colab": {
          "base_uri": "https://localhost:8080/",
          "height": 206
        },
        "id": "OgcZqi9r6QYl",
        "outputId": "df97b592-042e-4674-bf3e-d6a74509bc42"
      },
      "outputs": [
        {
          "output_type": "execute_result",
          "data": {
            "text/plain": [
              "   Customer ID        Purchase Date Product Category  Product Price  Quantity  \\\n",
              "0        46251  2020-09-08 09:38:32      Electronics             12         3   \n",
              "1        46251  2022-03-05 12:56:35             Home            468         4   \n",
              "2        46251  2022-05-23 18:18:01             Home            288         2   \n",
              "3        46251  2020-11-12 13:13:29         Clothing            196         1   \n",
              "4        13593  2020-11-27 17:55:11             Home            449         1   \n",
              "\n",
              "   Total Purchase Amount Payment Method  Customer Age  Returns  \\\n",
              "0                    740    Credit Card            37      0.0   \n",
              "1                   2739         PayPal            37      0.0   \n",
              "2                   3196         PayPal            37      0.0   \n",
              "3                   3509         PayPal            37      0.0   \n",
              "4                   3452    Credit Card            49      0.0   \n",
              "\n",
              "         Customer Name  Age  Gender  Churn  \n",
              "0  Christine Hernandez   37    Male      0  \n",
              "1  Christine Hernandez   37    Male      0  \n",
              "2  Christine Hernandez   37    Male      0  \n",
              "3  Christine Hernandez   37    Male      0  \n",
              "4          James Grant   49  Female      1  "
            ],
            "text/html": [
              "\n",
              "  <div id=\"df-c5f6b790-d577-4126-8922-eb77dcc1dd05\" class=\"colab-df-container\">\n",
              "    <div>\n",
              "<style scoped>\n",
              "    .dataframe tbody tr th:only-of-type {\n",
              "        vertical-align: middle;\n",
              "    }\n",
              "\n",
              "    .dataframe tbody tr th {\n",
              "        vertical-align: top;\n",
              "    }\n",
              "\n",
              "    .dataframe thead th {\n",
              "        text-align: right;\n",
              "    }\n",
              "</style>\n",
              "<table border=\"1\" class=\"dataframe\">\n",
              "  <thead>\n",
              "    <tr style=\"text-align: right;\">\n",
              "      <th></th>\n",
              "      <th>Customer ID</th>\n",
              "      <th>Purchase Date</th>\n",
              "      <th>Product Category</th>\n",
              "      <th>Product Price</th>\n",
              "      <th>Quantity</th>\n",
              "      <th>Total Purchase Amount</th>\n",
              "      <th>Payment Method</th>\n",
              "      <th>Customer Age</th>\n",
              "      <th>Returns</th>\n",
              "      <th>Customer Name</th>\n",
              "      <th>Age</th>\n",
              "      <th>Gender</th>\n",
              "      <th>Churn</th>\n",
              "    </tr>\n",
              "  </thead>\n",
              "  <tbody>\n",
              "    <tr>\n",
              "      <th>0</th>\n",
              "      <td>46251</td>\n",
              "      <td>2020-09-08 09:38:32</td>\n",
              "      <td>Electronics</td>\n",
              "      <td>12</td>\n",
              "      <td>3</td>\n",
              "      <td>740</td>\n",
              "      <td>Credit Card</td>\n",
              "      <td>37</td>\n",
              "      <td>0.0</td>\n",
              "      <td>Christine Hernandez</td>\n",
              "      <td>37</td>\n",
              "      <td>Male</td>\n",
              "      <td>0</td>\n",
              "    </tr>\n",
              "    <tr>\n",
              "      <th>1</th>\n",
              "      <td>46251</td>\n",
              "      <td>2022-03-05 12:56:35</td>\n",
              "      <td>Home</td>\n",
              "      <td>468</td>\n",
              "      <td>4</td>\n",
              "      <td>2739</td>\n",
              "      <td>PayPal</td>\n",
              "      <td>37</td>\n",
              "      <td>0.0</td>\n",
              "      <td>Christine Hernandez</td>\n",
              "      <td>37</td>\n",
              "      <td>Male</td>\n",
              "      <td>0</td>\n",
              "    </tr>\n",
              "    <tr>\n",
              "      <th>2</th>\n",
              "      <td>46251</td>\n",
              "      <td>2022-05-23 18:18:01</td>\n",
              "      <td>Home</td>\n",
              "      <td>288</td>\n",
              "      <td>2</td>\n",
              "      <td>3196</td>\n",
              "      <td>PayPal</td>\n",
              "      <td>37</td>\n",
              "      <td>0.0</td>\n",
              "      <td>Christine Hernandez</td>\n",
              "      <td>37</td>\n",
              "      <td>Male</td>\n",
              "      <td>0</td>\n",
              "    </tr>\n",
              "    <tr>\n",
              "      <th>3</th>\n",
              "      <td>46251</td>\n",
              "      <td>2020-11-12 13:13:29</td>\n",
              "      <td>Clothing</td>\n",
              "      <td>196</td>\n",
              "      <td>1</td>\n",
              "      <td>3509</td>\n",
              "      <td>PayPal</td>\n",
              "      <td>37</td>\n",
              "      <td>0.0</td>\n",
              "      <td>Christine Hernandez</td>\n",
              "      <td>37</td>\n",
              "      <td>Male</td>\n",
              "      <td>0</td>\n",
              "    </tr>\n",
              "    <tr>\n",
              "      <th>4</th>\n",
              "      <td>13593</td>\n",
              "      <td>2020-11-27 17:55:11</td>\n",
              "      <td>Home</td>\n",
              "      <td>449</td>\n",
              "      <td>1</td>\n",
              "      <td>3452</td>\n",
              "      <td>Credit Card</td>\n",
              "      <td>49</td>\n",
              "      <td>0.0</td>\n",
              "      <td>James Grant</td>\n",
              "      <td>49</td>\n",
              "      <td>Female</td>\n",
              "      <td>1</td>\n",
              "    </tr>\n",
              "  </tbody>\n",
              "</table>\n",
              "</div>\n",
              "    <div class=\"colab-df-buttons\">\n",
              "\n",
              "  <div class=\"colab-df-container\">\n",
              "    <button class=\"colab-df-convert\" onclick=\"convertToInteractive('df-c5f6b790-d577-4126-8922-eb77dcc1dd05')\"\n",
              "            title=\"Convert this dataframe to an interactive table.\"\n",
              "            style=\"display:none;\">\n",
              "\n",
              "  <svg xmlns=\"http://www.w3.org/2000/svg\" height=\"24px\" viewBox=\"0 -960 960 960\">\n",
              "    <path d=\"M120-120v-720h720v720H120Zm60-500h600v-160H180v160Zm220 220h160v-160H400v160Zm0 220h160v-160H400v160ZM180-400h160v-160H180v160Zm440 0h160v-160H620v160ZM180-180h160v-160H180v160Zm440 0h160v-160H620v160Z\"/>\n",
              "  </svg>\n",
              "    </button>\n",
              "\n",
              "  <style>\n",
              "    .colab-df-container {\n",
              "      display:flex;\n",
              "      gap: 12px;\n",
              "    }\n",
              "\n",
              "    .colab-df-convert {\n",
              "      background-color: #E8F0FE;\n",
              "      border: none;\n",
              "      border-radius: 50%;\n",
              "      cursor: pointer;\n",
              "      display: none;\n",
              "      fill: #1967D2;\n",
              "      height: 32px;\n",
              "      padding: 0 0 0 0;\n",
              "      width: 32px;\n",
              "    }\n",
              "\n",
              "    .colab-df-convert:hover {\n",
              "      background-color: #E2EBFA;\n",
              "      box-shadow: 0px 1px 2px rgba(60, 64, 67, 0.3), 0px 1px 3px 1px rgba(60, 64, 67, 0.15);\n",
              "      fill: #174EA6;\n",
              "    }\n",
              "\n",
              "    .colab-df-buttons div {\n",
              "      margin-bottom: 4px;\n",
              "    }\n",
              "\n",
              "    [theme=dark] .colab-df-convert {\n",
              "      background-color: #3B4455;\n",
              "      fill: #D2E3FC;\n",
              "    }\n",
              "\n",
              "    [theme=dark] .colab-df-convert:hover {\n",
              "      background-color: #434B5C;\n",
              "      box-shadow: 0px 1px 3px 1px rgba(0, 0, 0, 0.15);\n",
              "      filter: drop-shadow(0px 1px 2px rgba(0, 0, 0, 0.3));\n",
              "      fill: #FFFFFF;\n",
              "    }\n",
              "  </style>\n",
              "\n",
              "    <script>\n",
              "      const buttonEl =\n",
              "        document.querySelector('#df-c5f6b790-d577-4126-8922-eb77dcc1dd05 button.colab-df-convert');\n",
              "      buttonEl.style.display =\n",
              "        google.colab.kernel.accessAllowed ? 'block' : 'none';\n",
              "\n",
              "      async function convertToInteractive(key) {\n",
              "        const element = document.querySelector('#df-c5f6b790-d577-4126-8922-eb77dcc1dd05');\n",
              "        const dataTable =\n",
              "          await google.colab.kernel.invokeFunction('convertToInteractive',\n",
              "                                                    [key], {});\n",
              "        if (!dataTable) return;\n",
              "\n",
              "        const docLinkHtml = 'Like what you see? Visit the ' +\n",
              "          '<a target=\"_blank\" href=https://colab.research.google.com/notebooks/data_table.ipynb>data table notebook</a>'\n",
              "          + ' to learn more about interactive tables.';\n",
              "        element.innerHTML = '';\n",
              "        dataTable['output_type'] = 'display_data';\n",
              "        await google.colab.output.renderOutput(dataTable, element);\n",
              "        const docLink = document.createElement('div');\n",
              "        docLink.innerHTML = docLinkHtml;\n",
              "        element.appendChild(docLink);\n",
              "      }\n",
              "    </script>\n",
              "  </div>\n",
              "\n",
              "\n",
              "<div id=\"df-d185646e-d4a4-4928-8658-81a1289841be\">\n",
              "  <button class=\"colab-df-quickchart\" onclick=\"quickchart('df-d185646e-d4a4-4928-8658-81a1289841be')\"\n",
              "            title=\"Suggest charts\"\n",
              "            style=\"display:none;\">\n",
              "\n",
              "<svg xmlns=\"http://www.w3.org/2000/svg\" height=\"24px\"viewBox=\"0 0 24 24\"\n",
              "     width=\"24px\">\n",
              "    <g>\n",
              "        <path d=\"M19 3H5c-1.1 0-2 .9-2 2v14c0 1.1.9 2 2 2h14c1.1 0 2-.9 2-2V5c0-1.1-.9-2-2-2zM9 17H7v-7h2v7zm4 0h-2V7h2v10zm4 0h-2v-4h2v4z\"/>\n",
              "    </g>\n",
              "</svg>\n",
              "  </button>\n",
              "\n",
              "<style>\n",
              "  .colab-df-quickchart {\n",
              "      --bg-color: #E8F0FE;\n",
              "      --fill-color: #1967D2;\n",
              "      --hover-bg-color: #E2EBFA;\n",
              "      --hover-fill-color: #174EA6;\n",
              "      --disabled-fill-color: #AAA;\n",
              "      --disabled-bg-color: #DDD;\n",
              "  }\n",
              "\n",
              "  [theme=dark] .colab-df-quickchart {\n",
              "      --bg-color: #3B4455;\n",
              "      --fill-color: #D2E3FC;\n",
              "      --hover-bg-color: #434B5C;\n",
              "      --hover-fill-color: #FFFFFF;\n",
              "      --disabled-bg-color: #3B4455;\n",
              "      --disabled-fill-color: #666;\n",
              "  }\n",
              "\n",
              "  .colab-df-quickchart {\n",
              "    background-color: var(--bg-color);\n",
              "    border: none;\n",
              "    border-radius: 50%;\n",
              "    cursor: pointer;\n",
              "    display: none;\n",
              "    fill: var(--fill-color);\n",
              "    height: 32px;\n",
              "    padding: 0;\n",
              "    width: 32px;\n",
              "  }\n",
              "\n",
              "  .colab-df-quickchart:hover {\n",
              "    background-color: var(--hover-bg-color);\n",
              "    box-shadow: 0 1px 2px rgba(60, 64, 67, 0.3), 0 1px 3px 1px rgba(60, 64, 67, 0.15);\n",
              "    fill: var(--button-hover-fill-color);\n",
              "  }\n",
              "\n",
              "  .colab-df-quickchart-complete:disabled,\n",
              "  .colab-df-quickchart-complete:disabled:hover {\n",
              "    background-color: var(--disabled-bg-color);\n",
              "    fill: var(--disabled-fill-color);\n",
              "    box-shadow: none;\n",
              "  }\n",
              "\n",
              "  .colab-df-spinner {\n",
              "    border: 2px solid var(--fill-color);\n",
              "    border-color: transparent;\n",
              "    border-bottom-color: var(--fill-color);\n",
              "    animation:\n",
              "      spin 1s steps(1) infinite;\n",
              "  }\n",
              "\n",
              "  @keyframes spin {\n",
              "    0% {\n",
              "      border-color: transparent;\n",
              "      border-bottom-color: var(--fill-color);\n",
              "      border-left-color: var(--fill-color);\n",
              "    }\n",
              "    20% {\n",
              "      border-color: transparent;\n",
              "      border-left-color: var(--fill-color);\n",
              "      border-top-color: var(--fill-color);\n",
              "    }\n",
              "    30% {\n",
              "      border-color: transparent;\n",
              "      border-left-color: var(--fill-color);\n",
              "      border-top-color: var(--fill-color);\n",
              "      border-right-color: var(--fill-color);\n",
              "    }\n",
              "    40% {\n",
              "      border-color: transparent;\n",
              "      border-right-color: var(--fill-color);\n",
              "      border-top-color: var(--fill-color);\n",
              "    }\n",
              "    60% {\n",
              "      border-color: transparent;\n",
              "      border-right-color: var(--fill-color);\n",
              "    }\n",
              "    80% {\n",
              "      border-color: transparent;\n",
              "      border-right-color: var(--fill-color);\n",
              "      border-bottom-color: var(--fill-color);\n",
              "    }\n",
              "    90% {\n",
              "      border-color: transparent;\n",
              "      border-bottom-color: var(--fill-color);\n",
              "    }\n",
              "  }\n",
              "</style>\n",
              "\n",
              "  <script>\n",
              "    async function quickchart(key) {\n",
              "      const quickchartButtonEl =\n",
              "        document.querySelector('#' + key + ' button');\n",
              "      quickchartButtonEl.disabled = true;  // To prevent multiple clicks.\n",
              "      quickchartButtonEl.classList.add('colab-df-spinner');\n",
              "      try {\n",
              "        const charts = await google.colab.kernel.invokeFunction(\n",
              "            'suggestCharts', [key], {});\n",
              "      } catch (error) {\n",
              "        console.error('Error during call to suggestCharts:', error);\n",
              "      }\n",
              "      quickchartButtonEl.classList.remove('colab-df-spinner');\n",
              "      quickchartButtonEl.classList.add('colab-df-quickchart-complete');\n",
              "    }\n",
              "    (() => {\n",
              "      let quickchartButtonEl =\n",
              "        document.querySelector('#df-d185646e-d4a4-4928-8658-81a1289841be button');\n",
              "      quickchartButtonEl.style.display =\n",
              "        google.colab.kernel.accessAllowed ? 'block' : 'none';\n",
              "    })();\n",
              "  </script>\n",
              "</div>\n",
              "\n",
              "    </div>\n",
              "  </div>\n"
            ],
            "application/vnd.google.colaboratory.intrinsic+json": {
              "type": "dataframe",
              "variable_name": "data"
            }
          },
          "metadata": {},
          "execution_count": 2
        }
      ],
      "source": [
        "import pandas as pd\n",
        "import numpy as np\n",
        "\n",
        "from scipy.stats import entropy\n",
        "import seaborn as sns\n",
        "import matplotlib.pyplot as plt\n",
        "import matplotlib.pyplot as plt\n",
        "from scipy.stats import chi2_contingency\n",
        "from sklearn.preprocessing import MinMaxScaler\n",
        "\n",
        "url = \"https://raw.githubusercontent.com/JjMyDamnSon/AI_sub/refs/heads/main/ecommerce_customer_data_custom_ratios.csv\"\n",
        "data = pd.read_csv(url)\n",
        "\n",
        "data.head()"
      ]
    },
    {
      "cell_type": "markdown",
      "source": [
        "## **Data Preprocessing**"
      ],
      "metadata": {
        "id": "P6q2lyChCrEw"
      }
    },
    {
      "cell_type": "code",
      "source": [
        "#sort Purchase Date attribute ascendingly\n",
        "\n",
        "\n",
        "data['Purchase Date'] = pd.to_datetime(data['Purchase Date'], errors='coerce')\n",
        "data = data.sort_values(by='Purchase Date', ascending=True)\n",
        "\n",
        "data.head()\n",
        "\n",
        "\n"
      ],
      "metadata": {
        "id": "ifRQReMwr3wM",
        "outputId": "55abd333-df1e-4e2c-dc62-095e31bfc898",
        "colab": {
          "base_uri": "https://localhost:8080/",
          "height": 310
        }
      },
      "execution_count": 3,
      "outputs": [
        {
          "output_type": "execute_result",
          "data": {
            "text/plain": [
              "        Customer ID       Purchase Date Product Category  Product Price  \\\n",
              "78366         25337 2020-01-01 00:15:00             Home             32   \n",
              "249751        32242 2020-01-01 00:15:15             Home            161   \n",
              "201096        14853 2020-01-01 00:22:42            Books             93   \n",
              "45577         32581 2020-01-01 00:31:11         Clothing            375   \n",
              "1460          16006 2020-01-01 00:34:38      Electronics            125   \n",
              "\n",
              "        Quantity  Total Purchase Amount Payment Method  Customer Age  Returns  \\\n",
              "78366          2                   2525           Cash            42      0.0   \n",
              "249751         5                   2788         PayPal            60      1.0   \n",
              "201096         2                    690         PayPal            53      0.0   \n",
              "45577          1                   2368         PayPal            21      NaN   \n",
              "1460           1                   1649    Credit Card            37      1.0   \n",
              "\n",
              "           Customer Name  Age  Gender  Churn  \n",
              "78366     Justin Sanchez   42  Female      0  \n",
              "249751  Rebecca Mcdaniel   60  Female      1  \n",
              "201096   Pamela Mcdowell   53    Male      0  \n",
              "45577     Janice Oconnor   21  Female      1  \n",
              "1460      Brian Williams   37  Female      0  "
            ],
            "text/html": [
              "\n",
              "  <div id=\"df-466e359d-6e4a-480e-b451-f5be12fe3159\" class=\"colab-df-container\">\n",
              "    <div>\n",
              "<style scoped>\n",
              "    .dataframe tbody tr th:only-of-type {\n",
              "        vertical-align: middle;\n",
              "    }\n",
              "\n",
              "    .dataframe tbody tr th {\n",
              "        vertical-align: top;\n",
              "    }\n",
              "\n",
              "    .dataframe thead th {\n",
              "        text-align: right;\n",
              "    }\n",
              "</style>\n",
              "<table border=\"1\" class=\"dataframe\">\n",
              "  <thead>\n",
              "    <tr style=\"text-align: right;\">\n",
              "      <th></th>\n",
              "      <th>Customer ID</th>\n",
              "      <th>Purchase Date</th>\n",
              "      <th>Product Category</th>\n",
              "      <th>Product Price</th>\n",
              "      <th>Quantity</th>\n",
              "      <th>Total Purchase Amount</th>\n",
              "      <th>Payment Method</th>\n",
              "      <th>Customer Age</th>\n",
              "      <th>Returns</th>\n",
              "      <th>Customer Name</th>\n",
              "      <th>Age</th>\n",
              "      <th>Gender</th>\n",
              "      <th>Churn</th>\n",
              "    </tr>\n",
              "  </thead>\n",
              "  <tbody>\n",
              "    <tr>\n",
              "      <th>78366</th>\n",
              "      <td>25337</td>\n",
              "      <td>2020-01-01 00:15:00</td>\n",
              "      <td>Home</td>\n",
              "      <td>32</td>\n",
              "      <td>2</td>\n",
              "      <td>2525</td>\n",
              "      <td>Cash</td>\n",
              "      <td>42</td>\n",
              "      <td>0.0</td>\n",
              "      <td>Justin Sanchez</td>\n",
              "      <td>42</td>\n",
              "      <td>Female</td>\n",
              "      <td>0</td>\n",
              "    </tr>\n",
              "    <tr>\n",
              "      <th>249751</th>\n",
              "      <td>32242</td>\n",
              "      <td>2020-01-01 00:15:15</td>\n",
              "      <td>Home</td>\n",
              "      <td>161</td>\n",
              "      <td>5</td>\n",
              "      <td>2788</td>\n",
              "      <td>PayPal</td>\n",
              "      <td>60</td>\n",
              "      <td>1.0</td>\n",
              "      <td>Rebecca Mcdaniel</td>\n",
              "      <td>60</td>\n",
              "      <td>Female</td>\n",
              "      <td>1</td>\n",
              "    </tr>\n",
              "    <tr>\n",
              "      <th>201096</th>\n",
              "      <td>14853</td>\n",
              "      <td>2020-01-01 00:22:42</td>\n",
              "      <td>Books</td>\n",
              "      <td>93</td>\n",
              "      <td>2</td>\n",
              "      <td>690</td>\n",
              "      <td>PayPal</td>\n",
              "      <td>53</td>\n",
              "      <td>0.0</td>\n",
              "      <td>Pamela Mcdowell</td>\n",
              "      <td>53</td>\n",
              "      <td>Male</td>\n",
              "      <td>0</td>\n",
              "    </tr>\n",
              "    <tr>\n",
              "      <th>45577</th>\n",
              "      <td>32581</td>\n",
              "      <td>2020-01-01 00:31:11</td>\n",
              "      <td>Clothing</td>\n",
              "      <td>375</td>\n",
              "      <td>1</td>\n",
              "      <td>2368</td>\n",
              "      <td>PayPal</td>\n",
              "      <td>21</td>\n",
              "      <td>NaN</td>\n",
              "      <td>Janice Oconnor</td>\n",
              "      <td>21</td>\n",
              "      <td>Female</td>\n",
              "      <td>1</td>\n",
              "    </tr>\n",
              "    <tr>\n",
              "      <th>1460</th>\n",
              "      <td>16006</td>\n",
              "      <td>2020-01-01 00:34:38</td>\n",
              "      <td>Electronics</td>\n",
              "      <td>125</td>\n",
              "      <td>1</td>\n",
              "      <td>1649</td>\n",
              "      <td>Credit Card</td>\n",
              "      <td>37</td>\n",
              "      <td>1.0</td>\n",
              "      <td>Brian Williams</td>\n",
              "      <td>37</td>\n",
              "      <td>Female</td>\n",
              "      <td>0</td>\n",
              "    </tr>\n",
              "  </tbody>\n",
              "</table>\n",
              "</div>\n",
              "    <div class=\"colab-df-buttons\">\n",
              "\n",
              "  <div class=\"colab-df-container\">\n",
              "    <button class=\"colab-df-convert\" onclick=\"convertToInteractive('df-466e359d-6e4a-480e-b451-f5be12fe3159')\"\n",
              "            title=\"Convert this dataframe to an interactive table.\"\n",
              "            style=\"display:none;\">\n",
              "\n",
              "  <svg xmlns=\"http://www.w3.org/2000/svg\" height=\"24px\" viewBox=\"0 -960 960 960\">\n",
              "    <path d=\"M120-120v-720h720v720H120Zm60-500h600v-160H180v160Zm220 220h160v-160H400v160Zm0 220h160v-160H400v160ZM180-400h160v-160H180v160Zm440 0h160v-160H620v160ZM180-180h160v-160H180v160Zm440 0h160v-160H620v160Z\"/>\n",
              "  </svg>\n",
              "    </button>\n",
              "\n",
              "  <style>\n",
              "    .colab-df-container {\n",
              "      display:flex;\n",
              "      gap: 12px;\n",
              "    }\n",
              "\n",
              "    .colab-df-convert {\n",
              "      background-color: #E8F0FE;\n",
              "      border: none;\n",
              "      border-radius: 50%;\n",
              "      cursor: pointer;\n",
              "      display: none;\n",
              "      fill: #1967D2;\n",
              "      height: 32px;\n",
              "      padding: 0 0 0 0;\n",
              "      width: 32px;\n",
              "    }\n",
              "\n",
              "    .colab-df-convert:hover {\n",
              "      background-color: #E2EBFA;\n",
              "      box-shadow: 0px 1px 2px rgba(60, 64, 67, 0.3), 0px 1px 3px 1px rgba(60, 64, 67, 0.15);\n",
              "      fill: #174EA6;\n",
              "    }\n",
              "\n",
              "    .colab-df-buttons div {\n",
              "      margin-bottom: 4px;\n",
              "    }\n",
              "\n",
              "    [theme=dark] .colab-df-convert {\n",
              "      background-color: #3B4455;\n",
              "      fill: #D2E3FC;\n",
              "    }\n",
              "\n",
              "    [theme=dark] .colab-df-convert:hover {\n",
              "      background-color: #434B5C;\n",
              "      box-shadow: 0px 1px 3px 1px rgba(0, 0, 0, 0.15);\n",
              "      filter: drop-shadow(0px 1px 2px rgba(0, 0, 0, 0.3));\n",
              "      fill: #FFFFFF;\n",
              "    }\n",
              "  </style>\n",
              "\n",
              "    <script>\n",
              "      const buttonEl =\n",
              "        document.querySelector('#df-466e359d-6e4a-480e-b451-f5be12fe3159 button.colab-df-convert');\n",
              "      buttonEl.style.display =\n",
              "        google.colab.kernel.accessAllowed ? 'block' : 'none';\n",
              "\n",
              "      async function convertToInteractive(key) {\n",
              "        const element = document.querySelector('#df-466e359d-6e4a-480e-b451-f5be12fe3159');\n",
              "        const dataTable =\n",
              "          await google.colab.kernel.invokeFunction('convertToInteractive',\n",
              "                                                    [key], {});\n",
              "        if (!dataTable) return;\n",
              "\n",
              "        const docLinkHtml = 'Like what you see? Visit the ' +\n",
              "          '<a target=\"_blank\" href=https://colab.research.google.com/notebooks/data_table.ipynb>data table notebook</a>'\n",
              "          + ' to learn more about interactive tables.';\n",
              "        element.innerHTML = '';\n",
              "        dataTable['output_type'] = 'display_data';\n",
              "        await google.colab.output.renderOutput(dataTable, element);\n",
              "        const docLink = document.createElement('div');\n",
              "        docLink.innerHTML = docLinkHtml;\n",
              "        element.appendChild(docLink);\n",
              "      }\n",
              "    </script>\n",
              "  </div>\n",
              "\n",
              "\n",
              "<div id=\"df-7afeb03c-a500-4315-9f2a-d02ef86355a4\">\n",
              "  <button class=\"colab-df-quickchart\" onclick=\"quickchart('df-7afeb03c-a500-4315-9f2a-d02ef86355a4')\"\n",
              "            title=\"Suggest charts\"\n",
              "            style=\"display:none;\">\n",
              "\n",
              "<svg xmlns=\"http://www.w3.org/2000/svg\" height=\"24px\"viewBox=\"0 0 24 24\"\n",
              "     width=\"24px\">\n",
              "    <g>\n",
              "        <path d=\"M19 3H5c-1.1 0-2 .9-2 2v14c0 1.1.9 2 2 2h14c1.1 0 2-.9 2-2V5c0-1.1-.9-2-2-2zM9 17H7v-7h2v7zm4 0h-2V7h2v10zm4 0h-2v-4h2v4z\"/>\n",
              "    </g>\n",
              "</svg>\n",
              "  </button>\n",
              "\n",
              "<style>\n",
              "  .colab-df-quickchart {\n",
              "      --bg-color: #E8F0FE;\n",
              "      --fill-color: #1967D2;\n",
              "      --hover-bg-color: #E2EBFA;\n",
              "      --hover-fill-color: #174EA6;\n",
              "      --disabled-fill-color: #AAA;\n",
              "      --disabled-bg-color: #DDD;\n",
              "  }\n",
              "\n",
              "  [theme=dark] .colab-df-quickchart {\n",
              "      --bg-color: #3B4455;\n",
              "      --fill-color: #D2E3FC;\n",
              "      --hover-bg-color: #434B5C;\n",
              "      --hover-fill-color: #FFFFFF;\n",
              "      --disabled-bg-color: #3B4455;\n",
              "      --disabled-fill-color: #666;\n",
              "  }\n",
              "\n",
              "  .colab-df-quickchart {\n",
              "    background-color: var(--bg-color);\n",
              "    border: none;\n",
              "    border-radius: 50%;\n",
              "    cursor: pointer;\n",
              "    display: none;\n",
              "    fill: var(--fill-color);\n",
              "    height: 32px;\n",
              "    padding: 0;\n",
              "    width: 32px;\n",
              "  }\n",
              "\n",
              "  .colab-df-quickchart:hover {\n",
              "    background-color: var(--hover-bg-color);\n",
              "    box-shadow: 0 1px 2px rgba(60, 64, 67, 0.3), 0 1px 3px 1px rgba(60, 64, 67, 0.15);\n",
              "    fill: var(--button-hover-fill-color);\n",
              "  }\n",
              "\n",
              "  .colab-df-quickchart-complete:disabled,\n",
              "  .colab-df-quickchart-complete:disabled:hover {\n",
              "    background-color: var(--disabled-bg-color);\n",
              "    fill: var(--disabled-fill-color);\n",
              "    box-shadow: none;\n",
              "  }\n",
              "\n",
              "  .colab-df-spinner {\n",
              "    border: 2px solid var(--fill-color);\n",
              "    border-color: transparent;\n",
              "    border-bottom-color: var(--fill-color);\n",
              "    animation:\n",
              "      spin 1s steps(1) infinite;\n",
              "  }\n",
              "\n",
              "  @keyframes spin {\n",
              "    0% {\n",
              "      border-color: transparent;\n",
              "      border-bottom-color: var(--fill-color);\n",
              "      border-left-color: var(--fill-color);\n",
              "    }\n",
              "    20% {\n",
              "      border-color: transparent;\n",
              "      border-left-color: var(--fill-color);\n",
              "      border-top-color: var(--fill-color);\n",
              "    }\n",
              "    30% {\n",
              "      border-color: transparent;\n",
              "      border-left-color: var(--fill-color);\n",
              "      border-top-color: var(--fill-color);\n",
              "      border-right-color: var(--fill-color);\n",
              "    }\n",
              "    40% {\n",
              "      border-color: transparent;\n",
              "      border-right-color: var(--fill-color);\n",
              "      border-top-color: var(--fill-color);\n",
              "    }\n",
              "    60% {\n",
              "      border-color: transparent;\n",
              "      border-right-color: var(--fill-color);\n",
              "    }\n",
              "    80% {\n",
              "      border-color: transparent;\n",
              "      border-right-color: var(--fill-color);\n",
              "      border-bottom-color: var(--fill-color);\n",
              "    }\n",
              "    90% {\n",
              "      border-color: transparent;\n",
              "      border-bottom-color: var(--fill-color);\n",
              "    }\n",
              "  }\n",
              "</style>\n",
              "\n",
              "  <script>\n",
              "    async function quickchart(key) {\n",
              "      const quickchartButtonEl =\n",
              "        document.querySelector('#' + key + ' button');\n",
              "      quickchartButtonEl.disabled = true;  // To prevent multiple clicks.\n",
              "      quickchartButtonEl.classList.add('colab-df-spinner');\n",
              "      try {\n",
              "        const charts = await google.colab.kernel.invokeFunction(\n",
              "            'suggestCharts', [key], {});\n",
              "      } catch (error) {\n",
              "        console.error('Error during call to suggestCharts:', error);\n",
              "      }\n",
              "      quickchartButtonEl.classList.remove('colab-df-spinner');\n",
              "      quickchartButtonEl.classList.add('colab-df-quickchart-complete');\n",
              "    }\n",
              "    (() => {\n",
              "      let quickchartButtonEl =\n",
              "        document.querySelector('#df-7afeb03c-a500-4315-9f2a-d02ef86355a4 button');\n",
              "      quickchartButtonEl.style.display =\n",
              "        google.colab.kernel.accessAllowed ? 'block' : 'none';\n",
              "    })();\n",
              "  </script>\n",
              "</div>\n",
              "\n",
              "    </div>\n",
              "  </div>\n"
            ],
            "application/vnd.google.colaboratory.intrinsic+json": {
              "type": "dataframe",
              "variable_name": "data"
            }
          },
          "metadata": {},
          "execution_count": 3
        }
      ]
    },
    {
      "cell_type": "markdown",
      "source": [
        "**Categorizing Total Purchase Amount Attribute**"
      ],
      "metadata": {
        "id": "-R7ZtO5GAkGg"
      }
    },
    {
      "cell_type": "code",
      "source": [
        "#convert Total Purchase Amount into categorical ranges based on quantiles\n",
        "\n",
        "Q1 = data['Total Purchase Amount'].quantile(0.25)\n",
        "Q2 = data['Total Purchase Amount'].quantile(0.50)\n",
        "Q3 = data['Total Purchase Amount'].quantile(0.75)\n",
        "min_value = data['Total Purchase Amount'].min()\n",
        "max_value = data['Total Purchase Amount'].max()\n",
        "\n",
        "def categorize_purchase_amount(amount):\n",
        "    if amount <= Q1:\n",
        "        return 'low value'\n",
        "    elif amount <= Q2:\n",
        "        return 'medium value'\n",
        "    elif amount <= Q3:\n",
        "        return 'high value'\n",
        "    else:\n",
        "        return 'very high value'\n",
        "\n",
        "data['Purchase Amount Category'] = data['Total Purchase Amount'].apply(categorize_purchase_amount)\n",
        "\n",
        "category_mapping = {\n",
        "    'low value': 0,\n",
        "    'medium value': 1,\n",
        "    'high value': 2,\n",
        "    'very high value': 3\n",
        "}\n",
        "data['Normalized Purchase Amount'] = data['Purchase Amount Category'].map(category_mapping)\n",
        "\n",
        "\n"
      ],
      "metadata": {
        "id": "6GLN1x7qwzfC"
      },
      "execution_count": 4,
      "outputs": []
    },
    {
      "cell_type": "code",
      "source": [],
      "metadata": {
        "id": "OgONbBLiPp-w"
      },
      "execution_count": 4,
      "outputs": []
    },
    {
      "cell_type": "code",
      "source": [
        "# Single box plot for Total Purchase Amount\n",
        "plt.figure(figsize=(6, 6))\n",
        "sns.boxplot(y='Total Purchase Amount', data=data)\n",
        "plt.title(\"Box Plot of Total Purchase Amount\")\n",
        "plt.ylabel(\"Total Purchase Amount\")\n",
        "plt.show()\n"
      ],
      "metadata": {
        "colab": {
          "base_uri": "https://localhost:8080/",
          "height": 526
        },
        "id": "-RBlSNJCRUWu",
        "outputId": "495eed14-bd06-4f73-e295-d5d7264ef7e9"
      },
      "execution_count": 5,
      "outputs": [
        {
          "output_type": "display_data",
          "data": {
            "text/plain": [
              "<Figure size 600x600 with 1 Axes>"
            ],
            "image/png": "[encoded data removed]"
          },
          "metadata": {}
        }
      ]
    },
    {
      "cell_type": "markdown",
      "source": [
        " **Replace Missing Values**"
      ],
      "metadata": {
        "id": "lFfloIEGAZl5"
      }
    },
    {
      "cell_type": "code",
      "source": [
        "def check_data_cleanliness(data):\n",
        "    #check for missing values\n",
        "    if data.isnull().values.any():\n",
        "        print(\"Data contains missing values.\\n\")\n",
        "        print(\"Summary of missing values per column:\")\n",
        "        print(data.isnull().sum())\n",
        "    else:\n",
        "        print(\"No missing values found in the data.\")\n",
        "\n",
        "    #check for duplicate rows\n",
        "    duplicates = data.duplicated().sum()\n",
        "    if duplicates > 0:\n",
        "        print(f\"\\nData contains {duplicates} duplicate rows.\")\n",
        "    else:\n",
        "        print(\"\\nNo duplicate rows found.\")\n",
        "    print(\"\\nData types of each column:\")\n",
        "    print(data.dtypes)\n",
        "\n",
        "\n",
        "#replace missing values in the Returns column with the mean value\n",
        "data['Returns'] = data['Returns'].fillna(data['Returns'].mean())\n",
        "\n",
        "print(data['Returns'].isnull().sum())\n",
        "print(\"\\nUpdated Data Preview:\")\n",
        "data.head()\n",
        "\n",
        "check_data_cleanliness(data)\n"
      ],
      "metadata": {
        "id": "eQLrLVpvX6Ds",
        "colab": {
          "base_uri": "https://localhost:8080/"
        },
        "outputId": "53cdcda5-b076-43db-a0bc-490246386cd3"
      },
      "execution_count": 6,
      "outputs": [
        {
          "output_type": "stream",
          "name": "stdout",
          "text": [
            "0\n",
            "\n",
            "Updated Data Preview:\n",
            "No missing values found in the data.\n",
            "\n",
            "No duplicate rows found.\n",
            "\n",
            "Data types of each column:\n",
            "Customer ID                            int64\n",
            "Purchase Date                 datetime64[ns]\n",
            "Product Category                      object\n",
            "Product Price                          int64\n",
            "Quantity                               int64\n",
            "Total Purchase Amount                  int64\n",
            "Payment Method                        object\n",
            "Customer Age                           int64\n",
            "Returns                              float64\n",
            "Customer Name                         object\n",
            "Age                                    int64\n",
            "Gender                                object\n",
            "Churn                                  int64\n",
            "Purchase Amount Category              object\n",
            "Normalized Purchase Amount             int64\n",
            "dtype: object\n"
          ]
        }
      ]
    },
    {
      "cell_type": "code",
      "source": [
        "import numpy as np\n",
        "\n",
        "from scipy.stats import entropy\n",
        "import seaborn as sns\n",
        "import matplotlib.pyplot as plt\n",
        "import matplotlib.pyplot as plt\n",
        "from scipy.stats import chi2_contingency\n",
        "from sklearn.preprocessing import MinMaxScaler\n",
        "\n",
        "\n",
        "\n",
        "\n",
        "# Define relevant attributes\n",
        "relevant_attributes = ['Product Category',\n",
        "                      'Total Purchase Amount',\n",
        "                      'Customer Age', 'Returns', 'Gender']\n",
        "\n",
        "# Summary statistics for numerical attributes\n",
        "numerical_attributes = [ 'Total Purchase Amount', 'Customer Age', 'Returns']\n",
        "\n",
        "# Calculate mean, median, mode, and standard deviation for numerical attributes\n",
        "means = data[numerical_attributes].mean()\n",
        "medians = data[numerical_attributes].median()\n",
        "std_dev = data[numerical_attributes].std()\n",
        "\n",
        "# Display the statistics\n",
        "print(\"\\nMeans:\\n\", means)\n",
        "print(\"\\nMedians:\\n\", medians)\n",
        "print(\"\\nStandard Deviation for Numerical Attributes:\\n\", std_dev)\n",
        "\n",
        "# Calculate mode for all relevant attributes, including categorical ones\n",
        "modes = {}\n",
        "for column in relevant_attributes:\n",
        "    modes[column] = data[column].mode().iloc[0]  # Get the first mode for all attributes\n",
        "\n",
        "print(\"\\nModes for All Attributes:\")\n",
        "for key, value in modes.items():\n",
        "    print(f\"{key}: {value}\")\n"
      ],
      "metadata": {
        "colab": {
          "base_uri": "https://localhost:8080/"
        },
        "id": "Cv7_fEOu8GX0",
        "outputId": "de925091-afc5-4769-a909-b57b8e990c55"
      },
      "execution_count": 7,
      "outputs": [
        {
          "output_type": "stream",
          "name": "stdout",
          "text": [
            "\n",
            "Means:\n",
            " Total Purchase Amount    2725.370732\n",
            "Customer Age               43.940528\n",
            "Returns                     0.497861\n",
            "dtype: float64\n",
            "\n",
            "Medians:\n",
            " Total Purchase Amount    2724.000000\n",
            "Customer Age               44.000000\n",
            "Returns                     0.497861\n",
            "dtype: float64\n",
            "\n",
            "Standard Deviation for Numerical Attributes:\n",
            " Total Purchase Amount    1442.933565\n",
            "Customer Age               15.350246\n",
            "Returns                     0.449890\n",
            "dtype: float64\n",
            "\n",
            "Modes for All Attributes:\n",
            "Product Category: Clothing\n",
            "Total Purchase Amount: 2786\n",
            "Customer Age: 58\n",
            "Returns: 0.0\n",
            "Gender: Female\n"
          ]
        }
      ]
    },
    {
      "cell_type": "markdown",
      "source": [
        "**Calculate Entropy**"
      ],
      "metadata": {
        "id": "KGCRCz5HBF-k"
      }
    },
    {
      "cell_type": "code",
      "source": [
        "#calculate entropy for all relevant columns (excluding Purchase Date)\n",
        "def calculate_entropy(column):\n",
        "    if column.dtype == 'object' or column.nunique() < 10:  # Categorical\n",
        "        distribution = column.value_counts(normalize=True)\n",
        "        return entropy(distribution)\n",
        "    elif np.issubdtype(column.dtype, np.number):  # Numerical, bin into categories\n",
        "        bins = np.histogram_bin_edges(column, bins='auto')\n",
        "        binned_counts = np.histogram(column, bins=bins)[0]\n",
        "        distribution = binned_counts / binned_counts.sum()\n",
        "        return entropy(distribution)\n",
        "\n",
        "\n",
        "entropies = {col: calculate_entropy(data[col]) for col in relevant_attributes}\n",
        "print(\"\\nEntropy Values for All Relevant Attributes:\")\n",
        "for key, value in entropies.items():\n",
        "    print(f\"{key}: {value}\")"
      ],
      "metadata": {
        "id": "BDcips8jA51k",
        "colab": {
          "base_uri": "https://localhost:8080/"
        },
        "outputId": "e1e4b783-bb18-4d03-ca67-cabad0b8aa1b"
      },
      "execution_count": 8,
      "outputs": [
        {
          "output_type": "stream",
          "name": "stdout",
          "text": [
            "\n",
            "Entropy Values for All Relevant Attributes:\n",
            "Product Category: 1.3662146996291606\n",
            "Total Purchase Amount: 4.18135105788009\n",
            "Customer Age: 3.9697238822818317\n",
            "Returns: 1.047954926979278\n",
            "Gender: 0.6931371453263766\n"
          ]
        }
      ]
    },
    {
      "cell_type": "markdown",
      "source": [
        " **Visualizations**"
      ],
      "metadata": {
        "id": "MCZsxw57BhcY"
      }
    },
    {
      "cell_type": "code",
      "source": [
        "#visualize the distributions across different attributes\n",
        "plt.figure(figsize=(15, 10))\n",
        "\n",
        "# Product Price\n",
        "plt.subplot(2, 3, 1)\n",
        "sns.histplot(data['Product Price'], bins=30, kde=True)\n",
        "plt.title('Product Price Distribution')\n",
        "plt.xlabel('Product Price')\n",
        "plt.ylabel('Frequency')\n",
        "\n",
        "# Quantity\n",
        "plt.subplot(2, 3, 2)\n",
        "sns.histplot(data['Quantity'], bins=30, kde=True)\n",
        "plt.title('Quantity Distribution')\n",
        "plt.xlabel('Quantity')\n",
        "plt.ylabel('Frequency')\n",
        "\n",
        "# Total Purchase Amount\n",
        "plt.subplot(2, 3, 3)\n",
        "sns.histplot(data['Total Purchase Amount'], bins=30, kde=True)\n",
        "plt.title('Total Purchase Amount Distribution')\n",
        "plt.xlabel('Total Purchase Amount')\n",
        "plt.ylabel('Frequency')\n",
        "\n",
        "#Customer Age\n",
        "plt.subplot(2, 3, 4)\n",
        "sns.histplot(data['Customer Age'], bins=30, kde=True)\n",
        "plt.title('Customer Age Distribution')\n",
        "plt.xlabel('Customer Age')\n",
        "plt.ylabel('Frequency')\n",
        "\n",
        "# Returns\n",
        "plt.subplot(2, 3, 5)\n",
        "sns.countplot(x='Returns', data=data)\n",
        "plt.title('Returns Distribution')\n",
        "plt.xlabel('Returns (0 = No, 1 = Yes)')\n",
        "plt.ylabel('Count')\n",
        "\n",
        "#Gender\n",
        "plt.subplot(2, 3, 6)\n",
        "sns.countplot(x='Gender', data=data)\n",
        "plt.title('Gender Distribution')\n",
        "plt.xlabel('Gender')\n",
        "plt.ylabel('Count')\n",
        "\n",
        "plt.tight_layout()\n",
        "plt.show()\n",
        "\n",
        "categorical_attributes = ['Product Category', 'Gender']"
      ],
      "metadata": {
        "id": "6dksIWhk4bL0",
        "outputId": "07218469-687c-4f1d-a6b6-bfef5f8d592b",
        "colab": {
          "base_uri": "https://localhost:8080/",
          "height": 951
        }
      },
      "execution_count": 9,
      "outputs": [
        {
          "output_type": "display_data",
          "data": {
            "text/plain": [
              "<Figure size 1500x1000 with 6 Axes>"
            ],
            "image/png": "[encoded data removed]"
          },
          "metadata": {}
        }
      ]
    },
    {
      "cell_type": "code",
      "source": [
        "#normalize numeric variables using Min-Max scaling to the numerical attributes\n",
        "from sklearn.preprocessing import MinMaxScaler\n",
        "\n",
        "scaler = MinMaxScaler()\n",
        "data[numerical_attributes] = scaler.fit_transform(data[numerical_attributes])"
      ],
      "metadata": {
        "id": "FBQSVzzYfgtT"
      },
      "execution_count": 10,
      "outputs": []
    },
    {
      "cell_type": "code",
      "source": [
        "import seaborn as sns\n",
        "import matplotlib.pyplot as plt\n",
        "import pandas as pd\n",
        "\n",
        "# Calculate the Pearson correlation matrix for Normalized Purchase Amount and Churn\n",
        "correlation_matrix = data[['Normalized Purchase Amount', 'Churn']].corr()\n",
        "\n",
        "# Plot the heatmap\n",
        "plt.figure(figsize=(6, 5))\n",
        "sns.heatmap(correlation_matrix, annot=True, cmap='coolwarm', fmt=\".8f\", linewidths=0.5)\n",
        "plt.title(\"Correlation Heatmap: Normalized Purchase Amount vs Churn\")\n",
        "plt.show()\n",
        "#use chi square correlation matrix/heatmap for categorical attributes\n",
        "\n",
        "import seaborn as sns\n",
        "import matplotlib.pyplot as plt\n",
        "from scipy.stats import chi2_contingency\n",
        "\n",
        "# Function to compute Cramér's V\n",
        "def cramers_v(confusion_matrix):\n",
        "    chi2 = chi2_contingency(confusion_matrix)[0]\n",
        "    n = confusion_matrix.sum().sum()\n",
        "    r, k = confusion_matrix.shape\n",
        "    return np.sqrt(chi2 / (n * (min(k-1, r-1))))\n",
        "\n",
        "# List of categorical columns you want to calculate correlations for\n",
        "categorical_columns = ['Product Category', 'Churn']\n",
        "\n",
        "# Create an empty dataframe to store Cramér's V values\n",
        "cramers_v_matrix = pd.DataFrame(np.zeros((len(categorical_columns), len(categorical_columns))),\n",
        "                                index=categorical_columns, columns=categorical_columns)\n",
        "\n",
        "# Calculate Cramér's V between each pair of categorical columns\n",
        "for col1 in categorical_columns:\n",
        "    for col2 in categorical_columns:\n",
        "        if col1 == col2:\n",
        "            cramers_v_matrix.loc[col1, col2] = 1.0  # Same column correlation is 1\n",
        "        else:\n",
        "            confusion_matrix = pd.crosstab(data[col1], data[col2])\n",
        "            cramers_v_matrix.loc[col1, col2] = cramers_v(confusion_matrix)\n",
        "\n",
        "# Plot a heatmap of Cramér's V correlations\n",
        "plt.figure(figsize=(10, 8))\n",
        "sns.heatmap(cramers_v_matrix, annot=True, cmap=\"Blues\", fmt=\".6f\", linewidths=0.5)\n",
        "plt.title(\"Cramér's V Heatmap of Categorical Variables\")\n",
        "plt.show()"
      ],
      "metadata": {
        "id": "QFKWbqkwKH8l",
        "colab": {
          "base_uri": "https://localhost:8080/",
          "height": 1000
        },
        "outputId": "4a297877-fb5d-46cc-b6c9-5ba5384556d7"
      },
      "execution_count": 11,
      "outputs": [
        {
          "output_type": "display_data",
          "data": {
            "text/plain": [
              "<Figure size 600x500 with 2 Axes>"
            ],
            "image/png": "[encoded data removed]"
          },
          "metadata": {}
        },
        {
          "output_type": "display_data",
          "data": {
            "text/plain": [
              "<Figure size 1000x800 with 2 Axes>"
            ],
            "image/png": "[encoded data removed]"
          },
          "metadata": {}
        }
      ]
    },
    {
      "cell_type": "code",
      "source": [
        "# #plot the heatmap for numerical correlations\n",
        "# plt.figure(figsize=(10, 8))\n",
        "# sns.heatmap(numerical_corr, annot=True, fmt=\".6f\", cmap='coolwarm', center=0,\n",
        "#             vmin=-0.1, vmax=0.1, cbar_kws={\"shrink\": .8})  # Use a soft blue color map\n",
        "# plt.title('Heatmap of Relationships Between Numerical Attributes')\n",
        "# plt.show()\n"
      ],
      "metadata": {
        "id": "Fz1ReUUXwj-h"
      },
      "execution_count": 12,
      "outputs": []
    },
    {
      "cell_type": "code",
      "source": [
        "import matplotlib.pyplot as plt\n",
        "import seaborn as sns\n",
        "\n",
        "\n",
        "# Calculate mode and counts of 0 and 1 for churn\n",
        "mode_churn = data['Churn'].mode()[0]  # Get the first mode for churn\n",
        "counts_churn = data['Churn'].value_counts()\n",
        "\n",
        "print(\"\\nMode for Churn:\", mode_churn)\n",
        "print(\"\\nCounts for Churn (0 and 1):\\n\", counts_churn)\n",
        "\n",
        "\n"
      ],
      "metadata": {
        "id": "cpzgkhcTl4vd",
        "outputId": "d3ac51e9-7998-4932-9f22-796af64e8b28",
        "colab": {
          "base_uri": "https://localhost:8080/"
        }
      },
      "execution_count": 13,
      "outputs": [
        {
          "output_type": "stream",
          "name": "stdout",
          "text": [
            "\n",
            "Mode for Churn: 0\n",
            "\n",
            "Counts for Churn (0 and 1):\n",
            " Churn\n",
            "0    200126\n",
            "1     49874\n",
            "Name: count, dtype: int64\n"
          ]
        }
      ]
    },
    {
      "cell_type": "markdown",
      "source": [
        "**Normalization of Numeric Variables**"
      ],
      "metadata": {
        "id": "RI5kVFGBKCM-"
      }
    },
    {
      "cell_type": "code",
      "source": [],
      "metadata": {
        "id": "uGm3Z3kzcJ_M",
        "collapsed": true
      },
      "execution_count": 13,
      "outputs": []
    },
    {
      "cell_type": "markdown",
      "source": [
        "Split the dataset"
      ],
      "metadata": {
        "id": "wJZtG2KKqcV4"
      }
    },
    {
      "cell_type": "code",
      "source": [
        "from sklearn.model_selection import train_test_split\n",
        "\n",
        "# Assuming 'data' is your DataFrame\n",
        "train_data, test_data = train_test_split(data, test_size=0.3, random_state=42, shuffle=False)  # Keeps sequential order\n",
        "\n",
        "print(f\"Training Set Size: {len(train_data)}\")\n",
        "print(f\"Test Set Size: {len(test_data)}\")"
      ],
      "metadata": {
        "colab": {
          "base_uri": "https://localhost:8080/"
        },
        "id": "mmVvmUSmqc17",
        "outputId": "db5a9881-a6d9-4284-cc72-6d67549ac51b"
      },
      "execution_count": 14,
      "outputs": [
        {
          "output_type": "stream",
          "name": "stdout",
          "text": [
            "Training Set Size: 175000\n",
            "Test Set Size: 75000\n"
          ]
        }
      ]
    },
    {
      "cell_type": "markdown",
      "source": [
        "## **Model Building**"
      ],
      "metadata": {
        "id": "lgFbpeJECD_y"
      }
    },
    {
      "cell_type": "code",
      "source": [
        "!pip install hmmlearn\n"
      ],
      "metadata": {
        "id": "FSPz3zwI9-bp",
        "outputId": "1aad2ec0-a6b8-416d-d27d-2cf96b679996",
        "colab": {
          "base_uri": "https://localhost:8080/"
        }
      },
      "execution_count": 15,
      "outputs": [
        {
          "output_type": "stream",
          "name": "stdout",
          "text": [
            "Collecting hmmlearn\n",
            "  Downloading hmmlearn-0.3.3-cp310-cp310-manylinux_2_17_x86_64.manylinux2014_x86_64.whl.metadata (3.0 kB)\n",
            "Requirement already satisfied: numpy>=1.10 in /usr/local/lib/python3.10/dist-packages (from hmmlearn) (1.26.4)\n",
            "Requirement already satisfied: scikit-learn!=0.22.0,>=0.16 in /usr/local/lib/python3.10/dist-packages (from hmmlearn) (1.5.2)\n",
            "Requirement already satisfied: scipy>=0.19 in /usr/local/lib/python3.10/dist-packages (from hmmlearn) (1.13.1)\n",
            "Requirement already satisfied: joblib>=1.2.0 in /usr/local/lib/python3.10/dist-packages (from scikit-learn!=0.22.0,>=0.16->hmmlearn) (1.4.2)\n",
            "Requirement already satisfied: threadpoolctl>=3.1.0 in /usr/local/lib/python3.10/dist-packages (from scikit-learn!=0.22.0,>=0.16->hmmlearn) (3.5.0)\n",
            "Downloading hmmlearn-0.3.3-cp310-cp310-manylinux_2_17_x86_64.manylinux2014_x86_64.whl (164 kB)\n",
            "\u001b[2K   \u001b[90m━━━━━━━━━━━━━━━━━━━━━━━━━━━━━━━━━━━━━━━━\u001b[0m \u001b[32m164.6/164.6 kB\u001b[0m \u001b[31m3.5 MB/s\u001b[0m eta \u001b[36m0:00:00\u001b[0m\n",
            "\u001b[?25hInstalling collected packages: hmmlearn\n",
            "Successfully installed hmmlearn-0.3.3\n"
          ]
        }
      ]
    },
    {
      "cell_type": "code",
      "source": [
        "from hmmlearn import hmm\n",
        "\n",
        "# Create a unique representation of hidden states by combining the relevant attributes\n",
        "\n",
        "data['Hidden State'] = list(zip(data['Normalized Purchase Amount']))\n",
        "\n",
        "# Convert the 'Hidden State' tuples to unique numeric codes for HMM processing\n",
        "data['Hidden State Code'] = data['Hidden State'].astype('category').cat.codes\n",
        "\n",
        "# Define hidden states and observed states\n",
        "hidden_states = data['Hidden State Code'].values.reshape(-1, 1)  # Reshape for HMM\n",
        "observed_states = data['Churn'].values  # Churn is your observed state\n",
        "\n",
        "# Initial State Probabilities\n",
        "initial_state_counts = data['Hidden State Code'].value_counts(normalize=True)\n",
        "initial_state_probabilities = initial_state_counts.values\n",
        "print(\"Initial State Probabilities:\", initial_state_probabilities)\n",
        "\n",
        "# Number of unique hidden states based on all relevant attributes\n",
        "n_states = len(data['Hidden State Code'].unique())\n",
        "print(f\"Number of Unique Hidden States: {n_states}\")\n",
        "\n",
        "# Transition Counts\n",
        "transition_counts = np.zeros((n_states, n_states))\n",
        "\n",
        "# Calculate transition counts based on hidden states\n",
        "for i in range(len(hidden_states) - 1):\n",
        "    transition_counts[hidden_states[i], hidden_states[i + 1]] += 1\n",
        "\n",
        "# Normalize to get transition probabilities\n",
        "transition_probabilities = (transition_counts.T / transition_counts.sum(axis=1)).T\n",
        "transition_probabilities = np.nan_to_num(transition_probabilities)  # Handle any NaNs\n",
        "print(\"\\nTransition Probabilities:\\n\", transition_probabilities)\n",
        "\n",
        "# Emission Probabilities\n",
        "n_observed_states = len(np.unique(observed_states))\n",
        "emission_counts = np.zeros((n_states, n_observed_states))\n",
        "\n",
        "for i in range(len(hidden_states)):\n",
        "    emission_counts[hidden_states[i], observed_states[i]] += 1\n",
        "\n",
        "# Normalize to get emission probabilities\n",
        "emission_probabilities = (emission_counts.T / emission_counts.sum(axis=1)).T\n",
        "emission_probabilities = np.nan_to_num(emission_probabilities)  # Handle any NaNs\n",
        "print(\"\\nEmission Probabilities:\\n\", emission_probabilities)\n",
        "\n",
        "# Create the HMM model with the desired number of hidden states\n",
        "n_components = n_states  # Adjust the number of hidden states\n",
        "model = hmm.MultinomialHMM(n_components=n_components, n_iter=100)  # Use MultinomialHMM for categorical data\n",
        "\n",
        "# Drop rows with NaN values to avoid fitting errors\n",
        "data.dropna(subset=['Hidden State Code', 'Churn'], inplace=True)\n",
        "\n",
        "# Fit the model on hidden states\n",
        "model.fit(hidden_states)\n",
        "\n",
        "# Predict hidden states based on the fitted model\n",
        "hidden_state_predictions = model.predict(hidden_states)\n"
      ],
      "metadata": {
        "id": "JH5viW8F81ox",
        "outputId": "49fe4942-01e1-4228-e6af-b3ce6f78756f",
        "colab": {
          "base_uri": "https://localhost:8080/"
        }
      },
      "execution_count": 58,
      "outputs": [
        {
          "output_type": "stream",
          "name": "stdout",
          "text": [
            "Initial State Probabilities: [0.250104 0.250044 0.25004  0.249812]\n",
            "Number of Unique Hidden States: 4\n",
            "\n",
            "Transition Probabilities:\n",
            " [[0.24949621 0.24775293 0.25050379 0.25224707]\n",
            " [0.25133579 0.24844025 0.25167173 0.24855223]\n",
            " [0.25071189 0.25213566 0.25015198 0.24700048]\n",
            " [0.24887515 0.25183738 0.24783437 0.25145309]]\n"
          ]
        },
        {
          "output_type": "stream",
          "name": "stderr",
          "text": [
            "WARNING:hmmlearn.hmm:MultinomialHMM has undergone major changes. The previous version was implementing a CategoricalHMM (a special case of MultinomialHMM). This new implementation follows the standard definition for a Multinomial distribution (e.g. as in https://en.wikipedia.org/wiki/Multinomial_distribution). See these issues for details:\n",
            "https://github.com/hmmlearn/hmmlearn/issues/335\n",
            "https://github.com/hmmlearn/hmmlearn/issues/340\n"
          ]
        },
        {
          "output_type": "stream",
          "name": "stdout",
          "text": [
            "\n",
            "Emission Probabilities:\n",
            " [[0.80107475 0.19892525]\n",
            " [0.80024316 0.19975684]\n",
            " [0.80163174 0.19836826]\n",
            " [0.7990649  0.2009351 ]]\n"
          ]
        }
      ]
    },
    {
      "cell_type": "markdown",
      "source": [],
      "metadata": {
        "id": "BW34eKoctEM2"
      }
    },
    {
      "cell_type": "code",
      "source": [
        "from hmmlearn import hmm\n",
        "import numpy as np\n",
        "from sklearn.model_selection import train_test_split\n",
        "\n",
        "# Seed the randomness for reproducibility\n",
        "np.random.seed(42)\n",
        "\n",
        "# Assuming 'data' is your original dataset and it already has the categorized 'Normalized Purchase Amount'\n",
        "# You've already categorized the 'Total Purchase Amount' into discrete categories based on quantiles\n",
        "\n",
        "# Split the data (ensuring reproducibility)\n",
        "train_data, test_data = train_test_split(data, test_size=0.3, random_state=42, shuffle=False)\n",
        "\n",
        "# Prepare training and test data\n",
        "hidden_states_train = train_data['Normalized Purchase Amount'].values.reshape(-1, 1)\n",
        "hidden_states_test = test_data['Normalized Purchase Amount'].values.reshape(-1, 1)\n",
        "\n",
        "# Initialize HMM with fixed start parameters if needed\n",
        "n_components = len(np.unique(hidden_states_train))  # Number of unique hidden states\n",
        "model = hmm.MultinomialHMM(n_components=n_components, n_iter=100, tol=1e-4, random_state=42)\n",
        "\n",
        "# Define custom start and transition probabilities to stabilize the model\n",
        "model.startprob_ = np.ones(n_components) / n_components  # Uniform start probability\n",
        "model.transmat_ = np.ones((n_components, n_components)) / n_components  # Uniform transition probability\n",
        "\n",
        "# Fit the model with the training data\n",
        "model.fit(hidden_states_train)\n",
        "\n",
        "# Predict the hidden states on the test data\n",
        "predicted_hidden_states = model.predict(hidden_states_test)\n",
        "\n",
        "# Output the predicted hidden states\n",
        "print(\"Predicted Hidden States:\", predicted_hidden_states)\n"
      ],
      "metadata": {
        "colab": {
          "base_uri": "https://localhost:8080/"
        },
        "id": "wLMVPw3TtDzX",
        "outputId": "73144b7a-ad99-4859-f20f-460544c1fc4c"
      },
      "execution_count": 59,
      "outputs": [
        {
          "output_type": "stream",
          "name": "stderr",
          "text": [
            "WARNING:hmmlearn.hmm:MultinomialHMM has undergone major changes. The previous version was implementing a CategoricalHMM (a special case of MultinomialHMM). This new implementation follows the standard definition for a Multinomial distribution (e.g. as in https://en.wikipedia.org/wiki/Multinomial_distribution). See these issues for details:\n",
            "https://github.com/hmmlearn/hmmlearn/issues/335\n",
            "https://github.com/hmmlearn/hmmlearn/issues/340\n",
            "WARNING:hmmlearn.base:Even though the 'startprob_' attribute is set, it will be overwritten during initialization because 'init_params' contains 's'\n",
            "WARNING:hmmlearn.base:Even though the 'transmat_' attribute is set, it will be overwritten during initialization because 'init_params' contains 't'\n"
          ]
        },
        {
          "output_type": "stream",
          "name": "stdout",
          "text": [
            "Predicted Hidden States: [1 2 2 ... 2 2 2]\n"
          ]
        }
      ]
    },
    {
      "cell_type": "code",
      "source": [
        "# Map hidden states to churn (assuming 1 -> churn, 0 -> no churn)\n",
        "# If state 1 is considered to correspond to churn (adjust as needed based on model output)\n",
        "predicted_churn_values = (predicted_hidden_states == 1).astype(int)\n",
        "\n",
        "# Actual churn values\n",
        "actual_churn_values = test_data['Churn'].values\n",
        "\n",
        "# Calculate accuracy\n",
        "accuracy = accuracy_score(actual_churn_values, predicted_churn_values)\n",
        "\n",
        "# Print the accuracy as a percentage\n",
        "print(f\"Accuracy: {accuracy * 100:.2f}%\")\n",
        "\n"
      ],
      "metadata": {
        "colab": {
          "base_uri": "https://localhost:8080/"
        },
        "id": "olgFDR-EjIJR",
        "outputId": "01301852-b426-4125-d2b7-d11bb667c7bf"
      },
      "execution_count": 60,
      "outputs": [
        {
          "output_type": "stream",
          "name": "stdout",
          "text": [
            "Accuracy: 79.86%\n"
          ]
        }
      ]
    },
    {
      "cell_type": "markdown",
      "source": [
        "## **Check for Most Probable Hidden State Sequence based on Observed States**"
      ],
      "metadata": {
        "id": "USuJzj5BCPSq"
      }
    },
    {
      "cell_type": "code",
      "source": [
        "import numpy as np\n",
        "from hmmlearn import hmm\n",
        "\n",
        "# Define your test sequence of observations\n",
        "observations_list = [0,0,0, 1,1,1]  # Example sequence of churn (0) and no churn (1)\n",
        "observations_sequence = np.array(observations_list).reshape(-1, 1)\n",
        "\n",
        "# Assuming you've already trained the model on hidden states\n",
        "# Use the decode function to get the log probability and hidden states\n",
        "log_probability, hidden_states = model.decode(observations_sequence, algorithm='viterbi')\n",
        "\n",
        "# Convert log probability to actual probability\n",
        "estimated_probability = np.exp(log_probability)\n",
        "\n",
        "# Print the results\n",
        "print(\"Sequence of Observations:\", ' '.join(str(observations_list[i]) for i in range(len(observations_list))))\n",
        "print(\"Most likely hidden states:\", hidden_states)\n",
        "print(\"Log Probability:\", log_probability)\n",
        "print(\"Estimated Probability of Churn based on Hidden States Sequence:\", estimated_probability)\n"
      ],
      "metadata": {
        "id": "MhNt-IJ0hbFn",
        "outputId": "a9e490d4-b09b-40bc-a7e9-b0cf5ecd52f9",
        "colab": {
          "base_uri": "https://localhost:8080/"
        }
      },
      "execution_count": 61,
      "outputs": [
        {
          "output_type": "stream",
          "name": "stdout",
          "text": [
            "Sequence of Observations: 0 0 0 1 1 1\n",
            "Most likely hidden states: [1 2 2 2 2 2]\n",
            "Log Probability: -1.5156047223013656\n",
            "Estimated Probability of Churn based on Hidden States Sequence: 0.21967530211898584\n"
          ]
        }
      ]
    },
    {
      "cell_type": "code",
      "source": [
        "data.info()"
      ],
      "metadata": {
        "id": "iiFVjNEGnVy0",
        "outputId": "d973d30f-3e2c-43cb-e2a2-cce5a9844c9c",
        "colab": {
          "base_uri": "https://localhost:8080/"
        }
      },
      "execution_count": 57,
      "outputs": [
        {
          "output_type": "stream",
          "name": "stdout",
          "text": [
            "<class 'pandas.core.frame.DataFrame'>\n",
            "Index: 250000 entries, 78366 to 132762\n",
            "Data columns (total 18 columns):\n",
            " #   Column                      Non-Null Count   Dtype         \n",
            "---  ------                      --------------   -----         \n",
            " 0   Customer ID                 250000 non-null  int64         \n",
            " 1   Purchase Date               250000 non-null  datetime64[ns]\n",
            " 2   Product Category            250000 non-null  object        \n",
            " 3   Product Price               250000 non-null  int64         \n",
            " 4   Quantity                    250000 non-null  int64         \n",
            " 5   Total Purchase Amount       250000 non-null  float64       \n",
            " 6   Payment Method              250000 non-null  object        \n",
            " 7   Customer Age                250000 non-null  float64       \n",
            " 8   Returns                     250000 non-null  float64       \n",
            " 9   Customer Name               250000 non-null  object        \n",
            " 10  Age                         250000 non-null  int64         \n",
            " 11  Gender                      250000 non-null  object        \n",
            " 12  Churn                       250000 non-null  int64         \n",
            " 13  Purchase Amount Category    250000 non-null  object        \n",
            " 14  Normalized Purchase Amount  250000 non-null  int64         \n",
            " 15  Hidden State                250000 non-null  object        \n",
            " 16  Hidden State Code           250000 non-null  int8          \n",
            " 17  Binned Purchase Amount      250000 non-null  int64         \n",
            "dtypes: datetime64[ns](1), float64(3), int64(7), int8(1), object(6)\n",
            "memory usage: 34.6+ MB\n"
          ]
        }
      ]
    },
    {
      "cell_type": "code",
      "source": [
        "# Print unique values in the 'Returns' column\n",
        "unique_returns_values = data['Returns'].unique()\n",
        "print(\"Unique values in 'Returns' column:\", unique_returns_values)\n"
      ],
      "metadata": {
        "colab": {
          "base_uri": "https://localhost:8080/"
        },
        "id": "x6gIKYFwVF5i",
        "outputId": "e8d7bdc9-846e-4a79-dd2a-0344d7109461"
      },
      "execution_count": 20,
      "outputs": [
        {
          "output_type": "stream",
          "name": "stdout",
          "text": [
            "Unique values in 'Returns' column: [0.         1.         0.49786071]\n"
          ]
        }
      ]
    },
    {
      "cell_type": "code",
      "source": [],
      "metadata": {
        "id": "cATus0j7e3tF"
      },
      "execution_count": 20,
      "outputs": []
    },
    {
      "cell_type": "code",
      "source": [],
      "metadata": {
        "id": "1Sg9PGW4Y8Bi"
      },
      "execution_count": 20,
      "outputs": []
    },
    {
      "cell_type": "markdown",
      "source": [],
      "metadata": {
        "id": "LBlZojcYCpOC"
      }
    }
  ]
}